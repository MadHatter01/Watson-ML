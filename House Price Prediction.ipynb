{
    "nbformat_minor": 1, 
    "cells": [
        {
            "source": "import pixiedust\nimport matplotlib.pyplot as plt\nimport numpy as np\nimport pandas as pd\nimport seaborn as sns\nimport json\nimport requests\nimport urllib3", 
            "cell_type": "code", 
            "metadata": {}, 
            "outputs": [], 
            "execution_count": 90
        }, 
        {
            "source": "\nimport ibmos2spark\n# @hidden_cell\ncredentials = {\n    'endpoint': 'https://s3.eu-geo.objectstorage.service.networklayer.com',\n    'service_id': 'iam-ServiceId-c31bffd5-c419-47b0-8c7d-6fec4170f1ee',\n    'iam_service_endpoint': 'https://iam.bluemix.net/oidc/token',\n    'api_key': 'p_Du7hnIwPKxBQEA_MdUvMDSFXbcHw0YRAyfNqLhB6ql'\n}\n\nconfiguration_name = 'os_5fbeb7a47299433ab196ff99b581028e_configs'\ncos = ibmos2spark.CloudObjectStorage(sc, credentials, configuration_name, 'bluemix_cos')\n\nfrom pyspark.sql import SparkSession\nspark = SparkSession.builder.getOrCreate()\ndf = spark.read\\\n  .format('org.apache.spark.sql.execution.datasources.csv.CSVFileFormat')\\\n  .option('header', 'true')\\\n  .load(cos.url('kingcounty.csv', 'kickstarter01-donotdelete-pr-zfrqowrl3jxwss'))\ndf.head(5)\n", 
            "cell_type": "code", 
            "metadata": {}, 
            "outputs": [
                {
                    "output_type": "execute_result", 
                    "data": {
                        "text/plain": "[Row(id='7129300520', date='20141013T000000', price='221900', bedrooms='3', bathrooms='1', sqft_living='1180', sqft_lot='5650', floors='1', waterfront='0', view='0', condition='3', grade='7', sqft_above='1180', sqft_basement='0', yr_built='1955', yr_renovated='0', zipcode='98178', lat='47.5112', long='-122.257', sqft_living15='1340', sqft_lot15='5650'),\n Row(id='6414100192', date='20141209T000000', price='538000', bedrooms='3', bathrooms='2.25', sqft_living='2570', sqft_lot='7242', floors='2', waterfront='0', view='0', condition='3', grade='7', sqft_above='2170', sqft_basement='400', yr_built='1951', yr_renovated='1991', zipcode='98125', lat='47.721', long='-122.319', sqft_living15='1690', sqft_lot15='7639'),\n Row(id='5631500400', date='20150225T000000', price='180000', bedrooms='2', bathrooms='1', sqft_living='770', sqft_lot='10000', floors='1', waterfront='0', view='0', condition='3', grade='6', sqft_above='770', sqft_basement='0', yr_built='1933', yr_renovated='0', zipcode='98028', lat='47.7379', long='-122.233', sqft_living15='2720', sqft_lot15='8062'),\n Row(id='2487200875', date='20141209T000000', price='604000', bedrooms='4', bathrooms='3', sqft_living='1960', sqft_lot='5000', floors='1', waterfront='0', view='0', condition='5', grade='7', sqft_above='1050', sqft_basement='910', yr_built='1965', yr_renovated='0', zipcode='98136', lat='47.5208', long='-122.393', sqft_living15='1360', sqft_lot15='5000'),\n Row(id='1954400510', date='20150218T000000', price='510000', bedrooms='3', bathrooms='2', sqft_living='1680', sqft_lot='8080', floors='1', waterfront='0', view='0', condition='3', grade='8', sqft_above='1680', sqft_basement='0', yr_built='1987', yr_renovated='0', zipcode='98074', lat='47.6168', long='-122.045', sqft_living15='1800', sqft_lot15='7503')]"
                    }, 
                    "execution_count": 124, 
                    "metadata": {}
                }
            ], 
            "execution_count": 124
        }, 
        {
            "source": "from pyspark.ml import Pipeline\nfrom pyspark.ml.regression import LinearRegression\nfrom pyspark.ml.feature import VectorAssembler\n", 
            "cell_type": "code", 
            "metadata": {}, 
            "outputs": [], 
            "execution_count": 125
        }, 
        {
            "source": "df.printSchema()", 
            "cell_type": "code", 
            "metadata": {
                "pixiedust": {
                    "displayParams": {
                        "handlerId": "tableView"
                    }
                }
            }, 
            "outputs": [
                {
                    "output_type": "stream", 
                    "name": "stdout", 
                    "text": "root\n |-- id: string (nullable = true)\n |-- date: string (nullable = true)\n |-- price: string (nullable = true)\n |-- bedrooms: string (nullable = true)\n |-- bathrooms: string (nullable = true)\n |-- sqft_living: string (nullable = true)\n |-- sqft_lot: string (nullable = true)\n |-- floors: string (nullable = true)\n |-- waterfront: string (nullable = true)\n |-- view: string (nullable = true)\n |-- condition: string (nullable = true)\n |-- grade: string (nullable = true)\n |-- sqft_above: string (nullable = true)\n |-- sqft_basement: string (nullable = true)\n |-- yr_built: string (nullable = true)\n |-- yr_renovated: string (nullable = true)\n |-- zipcode: string (nullable = true)\n |-- lat: string (nullable = true)\n |-- long: string (nullable = true)\n |-- sqft_living15: string (nullable = true)\n |-- sqft_lot15: string (nullable = true)\n\n"
                }
            ], 
            "execution_count": 126
        }, 
        {
            "source": "from pyspark.sql.types import DoubleType\ndf = df.withColumn(\"sqft_living\", df[\"sqft_living\"].cast(DoubleType()))\ndf = df.withColumn(\"price\", df[\"price\"].cast(DoubleType()))\ndf = df.withColumn(\"bedrooms\", df[\"bedrooms\"].cast(DoubleType()))\ndf = df.withColumn(\"bathrooms\", df[\"bathrooms\"].cast(DoubleType()))\ndf = df.withColumn(\"floors\", df[\"floors\"].cast(DoubleType()))", 
            "cell_type": "code", 
            "metadata": {
                "pixiedust": {
                    "displayParams": {
                        "handlerId": "tableView"
                    }
                }
            }, 
            "outputs": [], 
            "execution_count": 128
        }, 
        {
            "source": "assembler = VectorAssembler(inputCols=['sqft_living','bedrooms','bathrooms','floors'],outputCol=\"features\")\nlr = LinearRegression(labelCol='price', featuresCol='features')\n\npipeline = Pipeline(stages=[assembler, lr])\n\nmodel = pipeline.fit(df)", 
            "cell_type": "code", 
            "metadata": {}, 
            "outputs": [], 
            "execution_count": 129
        }, 
        {
            "source": "", 
            "cell_type": "code", 
            "metadata": {}, 
            "outputs": [], 
            "execution_count": null
        }, 
        {
            "source": "model.stages", 
            "cell_type": "code", 
            "metadata": {}, 
            "outputs": [
                {
                    "output_type": "execute_result", 
                    "data": {
                        "text/plain": "[VectorAssembler_43d0b4de17d010297669, LinearRegression_42dc802f796f7527b0a1]"
                    }, 
                    "execution_count": 122, 
                    "metadata": {}
                }
            ], 
            "execution_count": 122
        }, 
        {
            "source": "", 
            "cell_type": "code", 
            "metadata": {}, 
            "outputs": [], 
            "execution_count": null
        }, 
        {
            "source": "def get_prediction(square_feet, num_bedrooms,num_bathrooms,num_floors):\n    request_df = spark.createDataFrame([(square_feet, num_bedrooms, num_bathrooms,num_floors)], ['sqft_living','bedrooms','bathrooms','floors'])\n    response_df = model.transform(request_df)\n    return response_df", 
            "cell_type": "code", 
            "metadata": {}, 
            "outputs": [], 
            "execution_count": 130
        }, 
        {
            "source": "", 
            "cell_type": "code", 
            "metadata": {}, 
            "outputs": [], 
            "execution_count": 56
        }, 
        {
            "source": "response = get_prediction(2400, 4,1,2)\nresponse.show()", 
            "cell_type": "code", 
            "metadata": {}, 
            "outputs": [
                {
                    "output_type": "stream", 
                    "name": "stdout", 
                    "text": "+-----------+--------+---------+------+--------------------+---------------+\n|sqft_living|bedrooms|bathrooms|floors|            features|     prediction|\n+-----------+--------+---------+------+--------------------+---------------+\n|       2400|       4|        1|     2|[2400.0,4.0,1.0,2.0]|594076.08388495|\n+-----------+--------+---------+------+--------------------+---------------+\n\n"
                }
            ], 
            "execution_count": 131
        }, 
        {
            "source": "", 
            "cell_type": "code", 
            "metadata": {}, 
            "outputs": [], 
            "execution_count": null
        }, 
        {
            "source": "", 
            "cell_type": "code", 
            "metadata": {}, 
            "outputs": [], 
            "execution_count": null
        }, 
        {
            "source": "", 
            "cell_type": "code", 
            "metadata": {}, 
            "outputs": [], 
            "execution_count": 132
        }, 
        {
            "source": "\n\nservice_path = 'https://eu-gb.ml.cloud.ibm.com'\nusername=\"8f0e01f2-b456-4e8c-9f72-c0583f584efd\"\ninstance_id= \"5107e0f5-a5c4-4bc6-a8c5-2e1cc884646e\"\npassword= \"525a7547-f68e-4abc-be50-7842e6565941\"\nmodel_name = 'House Prices Model'\ndeployment_name = 'House Prices Deployment'\n\n", 
            "cell_type": "code", 
            "metadata": {}, 
            "outputs": [], 
            "execution_count": 133
        }, 
        {
            "source": "from repository.mlrepositoryclient import MLRepositoryClient\nfrom repository.mlrepositoryartifact import MLRepositoryArtifact\nml_repository_client = MLRepositoryClient(service_path)\nml_repository_client.authorize(username, password)", 
            "cell_type": "code", 
            "metadata": {}, 
            "outputs": [], 
            "execution_count": 134
        }, 
        {
            "source": "pipeline_artifact = MLRepositoryArtifact(pipeline, name=\"pipeline\")\nmodel_artifact = MLRepositoryArtifact(model, training_data=df, name=model_name, pipeline_artifact=pipeline_artifact)\n\nsaved_model = ml_repository_client.models.save(model_artifact)\nmodel_id = saved_model.uid\n", 
            "cell_type": "code", 
            "metadata": {}, 
            "outputs": [], 
            "execution_count": 135
        }, 
        {
            "source": "headers = urllib3.util.make_headers(basic_auth='{}:{}'.format(username, password))\nurl = '{}/v3/identity/token'.format(service_path)\nresponse = requests.get(url, headers=headers)\nml_token = 'Bearer ' + json.loads(response.text).get('token')", 
            "cell_type": "code", 
            "metadata": {}, 
            "outputs": [], 
            "execution_count": 136
        }, 
        {
            "source": "deployment_url = service_path + \"/v3/wml_instances/\" + instance_id + \"/published_models/\" + model_id + \"/deployments/\"\ndeployment_header = {'Content-Type': 'application/json', 'Authorization': ml_token}\ndeployment_payload = {\"type\": \"online\", \"name\": deployment_name}\n\ndeployment_response = requests.post(deployment_url, json=deployment_payload, headers=deployment_header)\ndeployment_response.text\nscoring_url = json.loads(deployment_response.text).get('entity').get('scoring_url')\nscoring_url", 
            "cell_type": "code", 
            "metadata": {}, 
            "outputs": [
                {
                    "output_type": "execute_result", 
                    "data": {
                        "text/plain": "'https://eu-gb.ml.cloud.ibm.com/v3/wml_instances/5107e0f5-a5c4-4bc6-a8c5-2e1cc884646e/published_models/3c21dc69-431b-462a-99b2-d1b07a3987a1/deployments/32f34da4-00dd-46fa-97cd-077265f5147c/online'"
                    }, 
                    "execution_count": 137, 
                    "metadata": {}
                }
            ], 
            "execution_count": 137
        }, 
        {
            "source": "def get_prediction_from_watson_ml(square_feet, num_bedrooms,num_bathrooms,num_floors):\n    scoring_header = {'Content-Type': 'application/json', 'Authorization': ml_token}\n    scoring_payload = {'fields': ['sqft_living','bedrooms','bathrooms','floors'], 'values': [[square_feet, num_bedrooms,num_bathrooms,num_floors]]}\n    scoring_response = requests.post(scoring_url, json=scoring_payload, headers=scoring_header)\n    return scoring_response.text", 
            "cell_type": "code", 
            "metadata": {}, 
            "outputs": [], 
            "execution_count": 138
        }, 
        {
            "source": "response = get_prediction_from_watson_ml(2400, 4,1,2)\nprint(response)", 
            "cell_type": "code", 
            "metadata": {}, 
            "outputs": [
                {
                    "output_type": "stream", 
                    "name": "stdout", 
                    "text": "{\n  \"fields\": [\"sqft_living\", \"bedrooms\", \"bathrooms\", \"floors\", \"features\", \"prediction\"],\n  \"values\": [[2400.0, 4.0, 1.0, 2.0, [2400.0, 4.0, 1.0, 2.0], 594076.08388495]]\n}\n"
                }
            ], 
            "execution_count": 139
        }, 
        {
            "source": "from pyspark.ml.evaluation import RegressionEvaluator\nevaluator = RegressionEvaluator(\n    labelCol=\"price\", predictionCol=\"prediction\", metricName=\"rmse\")\n\n", 
            "cell_type": "code", 
            "metadata": {}, 
            "outputs": [], 
            "execution_count": 140
        }, 
        {
            "source": "predictions = model.transform(df)", 
            "cell_type": "code", 
            "metadata": {}, 
            "outputs": [], 
            "execution_count": 141
        }, 
        {
            "source": "rmse = evaluator.evaluate(predictions)\nprint(\"Root Mean Squared Error (RMSE) on test data = %g\" % rmse)", 
            "cell_type": "code", 
            "metadata": {}, 
            "outputs": [
                {
                    "output_type": "stream", 
                    "name": "stdout", 
                    "text": "Root Mean Squared Error (RMSE) on test data = 257790\n"
                }
            ], 
            "execution_count": 143
        }, 
        {
            "source": "", 
            "cell_type": "code", 
            "metadata": {}, 
            "outputs": [], 
            "execution_count": 176
        }, 
        {
            "source": "%matplotlib inline", 
            "cell_type": "code", 
            "metadata": {}, 
            "outputs": [], 
            "execution_count": 145
        }, 
        {
            "source": "data = df.toPandas()", 
            "cell_type": "code", 
            "metadata": {}, 
            "outputs": [], 
            "execution_count": 152
        }, 
        {
            "source": "\nsns.regplot(x='sqft_living',y='price', data=data)", 
            "cell_type": "code", 
            "metadata": {}, 
            "outputs": [
                {
                    "output_type": "execute_result", 
                    "data": {
                        "text/plain": "<matplotlib.axes._subplots.AxesSubplot at 0x2b3292bc6cf8>"
                    }, 
                    "execution_count": 178, 
                    "metadata": {}
                }, 
                {
                    "output_type": "display_data", 
                    "data": {
                        "image/png": "[encoded data removed]", 
                        "text/plain": "<matplotlib.figure.Figure at 0x2b3292906f98>"
                    }, 
                    "metadata": {}
                }
            ], 
            "execution_count": 178
        }, 
        {
            "source": "corrMatrix=df[[\"price\",\"bedrooms\",\"sqft_living\",\"bathrooms\",\"floors\",\n                  \"yr_built\",\"yr_renovated\",\"sqft_lot\",\"sqft_basement\",\"grade\",\"condition\"]].corr()\n\nsns.set(font_scale=1.10)\nplt.figure(figsize=(10, 10))\n\nsns.heatmap(corrMatrix, vmax=.8, linewidths=0.01,\n            square=True,annot=True,cmap='viridis',linecolor=\"white\")\nplt.title('Correlation between features')", 
            "cell_type": "code", 
            "metadata": {}, 
            "outputs": [], 
            "execution_count": null
        }, 
        {
            "source": "\n", 
            "cell_type": "code", 
            "metadata": {}, 
            "outputs": [], 
            "execution_count": null
        }, 
        {
            "source": "", 
            "cell_type": "code", 
            "metadata": {}, 
            "outputs": [], 
            "execution_count": null
        }
    ], 
    "metadata": {
        "kernelspec": {
            "display_name": "Python 3.5 with Spark", 
            "name": "python3", 
            "language": "python3"
        }, 
        "language_info": {
            "mimetype": "text/x-python", 
            "nbconvert_exporter": "python", 
            "version": "3.5.4", 
            "name": "python", 
            "file_extension": ".py", 
            "pygments_lexer": "ipython3", 
            "codemirror_mode": {
                "version": 3, 
                "name": "ipython"
            }
        }
    }, 
    "nbformat": 4
}